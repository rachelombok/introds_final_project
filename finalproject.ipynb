{
 "cells": [
  {
   "cell_type": "markdown",
   "metadata": {},
   "source": [
    "# How does the wealth of a country (GDP, schooling, total expenditure, etc) and health(Measles, Hepatitis B immunizations, etc) affect its life expectancy in 2015?\n",
    "There have been numerous studies taken in the past that have tried to identify the key factors affecting life expectancy, and how these factors vary across time and different countries. To analyze life expectancy, we will be looking at different demographic variables such as immunization factors and economic factors, and their impact.\n",
    "\n",
    "Using the dataset sourced from WHO and United Nations, we plan on exploring the relationship between the impact of a country’s wealth and health on its life expectancy. We will look at the correlation between them and see which variables have the greatest impact. The following figures below show the summary statistics when grouped by country(Figure 1), the correlation between variables(Figure 2), and a graph of the relationship between country and life expectancy(Figure 3). \n",
    "\n",
    "From the EDA, we can see that different countries have varying life expectancy values; Albania’s average life expectancy is 75.156, while Zimbabwe’s is 50.488. Also, different variables have high correlation with life expectancy, such as schooling or income composition of resources.\n",
    "\n",
    "*code for figures avg and correlation below*"
   ]
  },
  {
   "cell_type": "code",
   "execution_count": null,
   "metadata": {},
   "outputs": [],
   "source": []
  },
  {
   "cell_type": "markdown",
   "metadata": {},
   "source": [
    "## Data Processing  \n",
    "cleaning up data for only 2015, creating a new dataframe from that"
   ]
  },
  {
   "cell_type": "markdown",
   "metadata": {},
   "source": [
    "## Data Modelling\n",
    "Here is our linear regression model between (variable 1) and (variable 2).\n",
    "y = b0 + b1*x"
   ]
  }
 ],
 "metadata": {
  "language_info": {
   "name": "python"
  },
  "orig_nbformat": 4
 },
 "nbformat": 4,
 "nbformat_minor": 2
}
